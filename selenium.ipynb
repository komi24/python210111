{
 "cells": [
  {
   "cell_type": "code",
   "execution_count": 2,
   "metadata": {},
   "outputs": [],
   "source": [
    "from selenium import webdriver\n",
    "\n",
    "browser = webdriver.Chrome()\n",
    "\n"
   ]
  },
  {
   "cell_type": "code",
   "execution_count": 6,
   "metadata": {},
   "outputs": [],
   "source": [
    "browser.get(\"https://www.darty.com\")"
   ]
  },
  {
   "cell_type": "code",
   "execution_count": 7,
   "metadata": {},
   "outputs": [],
   "source": [
    "from selenium.webdriver.common.keys import Keys\n",
    "from time import sleep\n",
    "\n",
    "search = browser.find_element_by_css_selector(\"#dartyCom_searchfield_xxl\")\n",
    "search.send_keys(\"ordinateur portable\")\n",
    "\n",
    "sleep(2)\n",
    "\n",
    "search.send_keys(Keys.ENTER)"
   ]
  },
  {
   "cell_type": "code",
   "execution_count": 10,
   "metadata": {},
   "outputs": [],
   "source": [
    "prices = browser.find_elements_by_css_selector(\".darty_prix.darty_normal\")\n",
    "\n",
    "price_list = [p.text for p in prices]"
   ]
  },
  {
   "cell_type": "code",
   "execution_count": 21,
   "metadata": {},
   "outputs": [
    {
     "data": {
      "text/plain": [
       "['299,99€*',\n",
       " '499,99€*',\n",
       " '499,99€*',\n",
       " '699,99€*',\n",
       " '399,99€*',\n",
       " '419,99€*',\n",
       " '599,99€*',\n",
       " '699,99€*',\n",
       " '449,99€*',\n",
       " '449,99€*',\n",
       " '849,99€*',\n",
       " '429,99€*',\n",
       " '499,99€*',\n",
       " '299,99€*',\n",
       " '699,99€*',\n",
       " '579,99€*',\n",
       " '219,99€*',\n",
       " '899,99€*',\n",
       " '299,99€*',\n",
       " '699,99€*',\n",
       " '599,99€*',\n",
       " '879,99€*',\n",
       " '499,99€*',\n",
       " '999,99€*',\n",
       " '1 319,99€*',\n",
       " '1 439,99€*',\n",
       " '799,99€*',\n",
       " '749,99€*',\n",
       " '1 169,99€*',\n",
       " '299,99€*']"
      ]
     },
     "execution_count": 21,
     "metadata": {},
     "output_type": "execute_result"
    }
   ],
   "source": [
    "price_list"
   ]
  },
  {
   "cell_type": "code",
   "execution_count": 20,
   "metadata": {},
   "outputs": [
    {
     "data": {
      "text/plain": [
       "641.99"
      ]
     },
     "execution_count": 20,
     "metadata": {},
     "output_type": "execute_result"
    }
   ],
   "source": [
    "price_list2 = [float(p.replace(',', '.').replace('€*','').replace(' ', '')) for p in price_list]\n",
    "sum(price_list2)/len(price_list2)\n"
   ]
  },
  {
   "cell_type": "code",
   "execution_count": 12,
   "metadata": {},
   "outputs": [],
   "source": [
    "browser.get(\"https://www.e.leclerc/?page=1\")"
   ]
  },
  {
   "cell_type": "code",
   "execution_count": 13,
   "metadata": {},
   "outputs": [],
   "source": [
    "search = browser.find_element_by_css_selector(\".search-input\")\n",
    "search.send_keys(\"céréales\")\n",
    "search.send_keys(Keys.ENTER)"
   ]
  },
  {
   "cell_type": "code",
   "execution_count": 17,
   "metadata": {},
   "outputs": [],
   "source": [
    "cart_button = browser.find_element_by_css_selector(\"div.product button.cart-button\")\n",
    "\n",
    "cart_button.click()"
   ]
  },
  {
   "cell_type": "code",
   "execution_count": 36,
   "metadata": {},
   "outputs": [
    {
     "data": {
      "text/plain": [
       "[299.99,\n",
       " 499.99,\n",
       " 499.99,\n",
       " 699.99,\n",
       " 399.99,\n",
       " 419.99,\n",
       " 599.99,\n",
       " 699.99,\n",
       " 449.99,\n",
       " 449.99,\n",
       " 849.99,\n",
       " 429.99,\n",
       " 499.99,\n",
       " 299.99,\n",
       " 699.99,\n",
       " 579.99,\n",
       " 219.99,\n",
       " 899.99,\n",
       " 299.99,\n",
       " 699.99,\n",
       " 599.99,\n",
       " 879.99,\n",
       " 499.99,\n",
       " 999.99,\n",
       " 1319.99,\n",
       " 1439.99,\n",
       " 799.99,\n",
       " 749.99,\n",
       " 1169.99,\n",
       " 299.99]"
      ]
     },
     "execution_count": 36,
     "metadata": {},
     "output_type": "execute_result"
    }
   ],
   "source": [
    "import re\n",
    "\n",
    "prix = price_list[0]\n",
    "\n",
    "def convert_price(chaine):\n",
    "    return float(re.findall(\"[0-9, ]+\", chaine)[0].replace(\",\", \".\").replace(\" \", \"\"))\n",
    "\n",
    "\n",
    "prices = [convert_price(p) for p in price_list]\n",
    "prices"
   ]
  },
  {
   "cell_type": "code",
   "execution_count": null,
   "metadata": {},
   "outputs": [],
   "source": [
    "convert_price()"
   ]
  },
  {
   "cell_type": "code",
   "execution_count": 28,
   "metadata": {},
   "outputs": [
    {
     "name": "stdout",
     "output_type": "stream",
     "text": [
      "None\n"
     ]
    }
   ],
   "source": [
    "import re\n",
    "\n",
    "\n",
    "re.match(\"GR.?S\", \"GRS\")\n",
    "re.match(\"GR.?S\", \"GRIS\")\n",
    "re.match(\"GR.?S\", \"GRiS\")\n",
    "print(re.match(\"GR.?S\", \"GRI\"))\n"
   ]
  },
  {
   "cell_type": "code",
   "execution_count": null,
   "metadata": {},
   "outputs": [],
   "source": []
  }
 ],
 "metadata": {
  "kernelspec": {
   "display_name": "Python 3",
   "language": "python",
   "name": "python3"
  },
  "language_info": {
   "codemirror_mode": {
    "name": "ipython",
    "version": 3
   },
   "file_extension": ".py",
   "mimetype": "text/x-python",
   "name": "python",
   "nbconvert_exporter": "python",
   "pygments_lexer": "ipython3",
   "version": "3.7.3"
  }
 },
 "nbformat": 4,
 "nbformat_minor": 4
}
