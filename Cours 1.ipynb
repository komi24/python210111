{
 "cells": [
  {
   "cell_type": "code",
   "execution_count": 6,
   "metadata": {},
   "outputs": [
    {
     "name": "stdout",
     "output_type": "stream",
     "text": [
      "3\n",
      "2\n"
     ]
    }
   ],
   "source": [
    "a = 3\n",
    "print(a)\n",
    "print(2)"
   ]
  },
  {
   "cell_type": "markdown",
   "metadata": {},
   "source": [
    "# Titre\n",
    "\n",
    "## Sous titre 1\n",
    "\n",
    "paragraphe\n",
    "\n",
    "* item 1\n",
    "* item 2"
   ]
  },
  {
   "cell_type": "code",
   "execution_count": 12,
   "metadata": {},
   "outputs": [
    {
     "name": "stdout",
     "output_type": "stream",
     "text": [
      "(-4+0j)\n",
      "[1, 2, 3, 2]\n",
      "<class 'list'>\n"
     ]
    }
   ],
   "source": [
    "a = 3\n",
    "a = 3.2\n",
    "a = False\n",
    "a = None\n",
    "a = 2j\n",
    "\n",
    "print(a**2)\n",
    "\n",
    "a = [1,2]\n",
    "b = [3,2]\n",
    "\n",
    "print(a + b)\n",
    "\n",
    "print(type(a))"
   ]
  },
  {
   "cell_type": "code",
   "execution_count": 16,
   "metadata": {},
   "outputs": [
    {
     "name": "stdout",
     "output_type": "stream",
     "text": [
      "[]\n",
      "0\n",
      "[2]\n",
      "1\n",
      "[2, [4, 6]]\n",
      "2\n"
     ]
    }
   ],
   "source": [
    "a = []\n",
    "print(a)\n",
    "print(len(a))\n",
    "a.append(2)\n",
    "print(a)\n",
    "print(len(a))\n",
    "\n",
    "a.append([4, 6])\n",
    "print(a)\n",
    "print(len(a))\n"
   ]
  },
  {
   "cell_type": "code",
   "execution_count": 17,
   "metadata": {},
   "outputs": [
    {
     "data": {
      "text/plain": [
       "2"
      ]
     },
     "execution_count": 17,
     "metadata": {},
     "output_type": "execute_result"
    }
   ],
   "source": [
    "a[0]"
   ]
  },
  {
   "cell_type": "code",
   "execution_count": 18,
   "metadata": {},
   "outputs": [
    {
     "data": {
      "text/plain": [
       "[4, 6]"
      ]
     },
     "execution_count": 18,
     "metadata": {},
     "output_type": "execute_result"
    }
   ],
   "source": [
    "a[1]"
   ]
  },
  {
   "cell_type": "code",
   "execution_count": 19,
   "metadata": {},
   "outputs": [
    {
     "data": {
      "text/plain": [
       "4"
      ]
     },
     "execution_count": 19,
     "metadata": {},
     "output_type": "execute_result"
    }
   ],
   "source": [
    "a[1][0]"
   ]
  },
  {
   "cell_type": "code",
   "execution_count": 22,
   "metadata": {},
   "outputs": [
    {
     "name": "stdout",
     "output_type": "stream",
     "text": [
      "[3, False, 2.4, 8, None, [6, 7]]\n"
     ]
    }
   ],
   "source": [
    "a = [3, False, 2.4, 8, None, [6,7]]\n",
    "\n",
    "print(a)"
   ]
  },
  {
   "cell_type": "code",
   "execution_count": 23,
   "metadata": {},
   "outputs": [
    {
     "name": "stdout",
     "output_type": "stream",
     "text": [
      "3\n",
      "8\n",
      "[6, 7]\n",
      "[6, 7]\n",
      "6\n"
     ]
    }
   ],
   "source": [
    "# récupérer le premier élément et l'afficher\n",
    "print(a[0])\n",
    "# récupérer le 4e élément et l'afficher\n",
    "print(a[3])\n",
    "# récupérer le dernier élément et l'afficher\n",
    "print(a[-1])\n",
    "print(a[len(a)-1])\n",
    "# récupérer le 1er élément de dernier élément (6)\n",
    "print(a[-1][0])\n"
   ]
  },
  {
   "cell_type": "code",
   "execution_count": 24,
   "metadata": {},
   "outputs": [
    {
     "name": "stdout",
     "output_type": "stream",
     "text": [
      "Le premier élément est : 3\n"
     ]
    }
   ],
   "source": [
    "# F-string depuis python 3.6\n",
    "\n",
    "print(f\"Le premier élément est : {a[0]}\")"
   ]
  },
  {
   "cell_type": "code",
   "execution_count": 27,
   "metadata": {},
   "outputs": [
    {
     "name": "stdout",
     "output_type": "stream",
     "text": [
      "<class 'str'>\n",
      "<class 'int'>\n"
     ]
    }
   ],
   "source": [
    "a = \"4\"\n",
    "print(type(a))\n",
    "\n",
    "a = int(a)\n",
    "\n",
    "print(type(a))\n"
   ]
  },
  {
   "cell_type": "code",
   "execution_count": 28,
   "metadata": {},
   "outputs": [
    {
     "name": "stdout",
     "output_type": "stream",
     "text": [
      "Quel est votre age ?36\n"
     ]
    }
   ],
   "source": [
    "age = input(\"Quel est votre age ?\")"
   ]
  },
  {
   "cell_type": "code",
   "execution_count": 32,
   "metadata": {},
   "outputs": [
    {
     "ename": "TypeError",
     "evalue": "can only concatenate str (not \"int\") to str",
     "output_type": "error",
     "traceback": [
      "\u001b[1;31m---------------------------------------------------------------------------\u001b[0m",
      "\u001b[1;31mTypeError\u001b[0m                                 Traceback (most recent call last)",
      "\u001b[1;32m<ipython-input-32-92c3ea8cb295>\u001b[0m in \u001b[0;36m<module>\u001b[1;34m\u001b[0m\n\u001b[0;32m      1\u001b[0m \u001b[1;31m# impossible de faire une addition entre une chaine et un entier\u001b[0m\u001b[1;33m\u001b[0m\u001b[1;33m\u001b[0m\u001b[1;33m\u001b[0m\u001b[0m\n\u001b[1;32m----> 2\u001b[1;33m \u001b[0mage\u001b[0m \u001b[1;33m+\u001b[0m \u001b[1;36m1\u001b[0m\u001b[1;33m\u001b[0m\u001b[1;33m\u001b[0m\u001b[0m\n\u001b[0m",
      "\u001b[1;31mTypeError\u001b[0m: can only concatenate str (not \"int\") to str"
     ]
    }
   ],
   "source": [
    "# impossible de faire une addition entre une chaine et un entier\n",
    "age + 1"
   ]
  },
  {
   "cell_type": "code",
   "execution_count": 33,
   "metadata": {},
   "outputs": [],
   "source": [
    "# convertir age en entier pour pouvoir faire l'addition\n",
    "age = int(age)\n"
   ]
  },
  {
   "cell_type": "code",
   "execution_count": 35,
   "metadata": {},
   "outputs": [
    {
     "data": {
      "text/plain": [
       "'36 ans'"
      ]
     },
     "execution_count": 35,
     "metadata": {},
     "output_type": "execute_result"
    }
   ],
   "source": [
    "str(36) + \" ans\""
   ]
  },
  {
   "cell_type": "code",
   "execution_count": 37,
   "metadata": {},
   "outputs": [],
   "source": [
    "# récap des types vus\n",
    "chaine = \"Bonjour\"\n",
    "fstring = f\"J'ai {age} ans\"\n",
    "ma_liste = [2, 8, \"chaine\", False]\n",
    "a = 2"
   ]
  },
  {
   "cell_type": "code",
   "execution_count": 39,
   "metadata": {},
   "outputs": [
    {
     "name": "stdout",
     "output_type": "stream",
     "text": [
      "True\n"
     ]
    }
   ],
   "source": [
    "age = 16\n",
    "est_mineur = age < 18\n",
    "print(est_mineur)"
   ]
  },
  {
   "cell_type": "code",
   "execution_count": 52,
   "metadata": {},
   "outputs": [
    {
     "name": "stdout",
     "output_type": "stream",
     "text": [
      "False\n"
     ]
    }
   ],
   "source": [
    "# age = 14\n",
    "age = 28\n",
    "est_mineur = age < 18\n",
    "print(est_mineur)"
   ]
  },
  {
   "cell_type": "code",
   "execution_count": 48,
   "metadata": {},
   "outputs": [
    {
     "data": {
      "text/plain": [
       "True"
      ]
     },
     "execution_count": 48,
     "metadata": {},
     "output_type": "execute_result"
    }
   ],
   "source": [
    "# ville = \"Paris\"\n",
    "ville = \"Toulouse\"\n",
    "\n",
    "# nhabite_pas_a_toulouse = ville != \"Toulouse\"\n",
    "\n",
    "habite_a_toulouse = ville == \"Toulouse\"\n",
    "habite_a_toulouse"
   ]
  },
  {
   "cell_type": "code",
   "execution_count": 49,
   "metadata": {},
   "outputs": [
    {
     "data": {
      "text/plain": [
       "True"
      ]
     },
     "execution_count": 49,
     "metadata": {},
     "output_type": "execute_result"
    }
   ],
   "source": [
    "habite_a_toulouse or est_mineur\n",
    "# habite_a_toulouse and est_mineur"
   ]
  },
  {
   "cell_type": "code",
   "execution_count": 50,
   "metadata": {},
   "outputs": [
    {
     "name": "stdout",
     "output_type": "stream",
     "text": [
      "[2, 23, 'chaine', False]\n"
     ]
    }
   ],
   "source": [
    "ma_liste = [2, 8, \"chaine\", False]\n",
    "\n",
    "ma_liste[1] = 23\n",
    "\n",
    "print(ma_liste)"
   ]
  },
  {
   "cell_type": "code",
   "execution_count": 53,
   "metadata": {},
   "outputs": [
    {
     "ename": "TypeError",
     "evalue": "'str' object does not support item assignment",
     "output_type": "error",
     "traceback": [
      "\u001b[1;31m---------------------------------------------------------------------------\u001b[0m",
      "\u001b[1;31mTypeError\u001b[0m                                 Traceback (most recent call last)",
      "\u001b[1;32m<ipython-input-53-f579abd7d6df>\u001b[0m in \u001b[0;36m<module>\u001b[1;34m\u001b[0m\n\u001b[0;32m      1\u001b[0m \u001b[0mma_chaine\u001b[0m \u001b[1;33m=\u001b[0m \u001b[1;34m\"Bonjour\"\u001b[0m\u001b[1;33m\u001b[0m\u001b[1;33m\u001b[0m\u001b[0m\n\u001b[0;32m      2\u001b[0m \u001b[1;33m\u001b[0m\u001b[0m\n\u001b[1;32m----> 3\u001b[1;33m \u001b[0mma_chaine\u001b[0m\u001b[1;33m[\u001b[0m\u001b[1;36m0\u001b[0m\u001b[1;33m]\u001b[0m \u001b[1;33m=\u001b[0m \u001b[1;34m\"C\"\u001b[0m\u001b[1;33m\u001b[0m\u001b[1;33m\u001b[0m\u001b[0m\n\u001b[0m",
      "\u001b[1;31mTypeError\u001b[0m: 'str' object does not support item assignment"
     ]
    }
   ],
   "source": [
    "ma_chaine = \"Bonjour\"\n",
    "\n",
    "ma_chaine[0] = \"C\""
   ]
  },
  {
   "cell_type": "code",
   "execution_count": 54,
   "metadata": {},
   "outputs": [
    {
     "ename": "TypeError",
     "evalue": "'tuple' object does not support item assignment",
     "output_type": "error",
     "traceback": [
      "\u001b[1;31m---------------------------------------------------------------------------\u001b[0m",
      "\u001b[1;31mTypeError\u001b[0m                                 Traceback (most recent call last)",
      "\u001b[1;32m<ipython-input-54-52ffd168132a>\u001b[0m in \u001b[0;36m<module>\u001b[1;34m\u001b[0m\n\u001b[0;32m      1\u001b[0m \u001b[0mmon_tuple\u001b[0m \u001b[1;33m=\u001b[0m \u001b[1;33m(\u001b[0m\u001b[1;36m2\u001b[0m\u001b[1;33m,\u001b[0m\u001b[1;36m7\u001b[0m\u001b[1;33m,\u001b[0m\u001b[1;36m4\u001b[0m\u001b[1;33m,\u001b[0m\u001b[1;36m8\u001b[0m\u001b[1;33m)\u001b[0m\u001b[1;33m\u001b[0m\u001b[1;33m\u001b[0m\u001b[0m\n\u001b[1;32m----> 2\u001b[1;33m \u001b[0mmon_tuple\u001b[0m\u001b[1;33m[\u001b[0m\u001b[1;36m1\u001b[0m\u001b[1;33m]\u001b[0m \u001b[1;33m=\u001b[0m \u001b[1;36m23\u001b[0m\u001b[1;33m\u001b[0m\u001b[1;33m\u001b[0m\u001b[0m\n\u001b[0m",
      "\u001b[1;31mTypeError\u001b[0m: 'tuple' object does not support item assignment"
     ]
    }
   ],
   "source": [
    "mon_tuple = (2,7,4,8)\n",
    "mon_tuple[1] = 23"
   ]
  },
  {
   "cell_type": "code",
   "execution_count": 56,
   "metadata": {},
   "outputs": [
    {
     "data": {
      "text/plain": [
       "()"
      ]
     },
     "execution_count": 56,
     "metadata": {},
     "output_type": "execute_result"
    }
   ],
   "source": [
    "tuple()"
   ]
  },
  {
   "cell_type": "code",
   "execution_count": 58,
   "metadata": {},
   "outputs": [
    {
     "data": {
      "text/plain": [
       "(1,)"
      ]
     },
     "execution_count": 58,
     "metadata": {},
     "output_type": "execute_result"
    }
   ],
   "source": [
    "(1,)"
   ]
  },
  {
   "cell_type": "code",
   "execution_count": 59,
   "metadata": {},
   "outputs": [
    {
     "data": {
      "text/plain": [
       "1"
      ]
     },
     "execution_count": 59,
     "metadata": {},
     "output_type": "execute_result"
    }
   ],
   "source": [
    "(1)"
   ]
  },
  {
   "cell_type": "code",
   "execution_count": 63,
   "metadata": {},
   "outputs": [
    {
     "name": "stdout",
     "output_type": "stream",
     "text": [
      "{'nom': 'Bolnet', 'prenom': 'Mickael', 'age': 29}\n",
      "Bolnet\n"
     ]
    }
   ],
   "source": [
    "personne = {\"nom\": \"Bolnet\", \"prenom\": \"Mickael\", \"age\": 29}\n",
    "\n",
    "print(personne)\n",
    "print(personne[\"nom\"])"
   ]
  },
  {
   "cell_type": "code",
   "execution_count": 64,
   "metadata": {},
   "outputs": [],
   "source": [
    "config = {\"url\": \"http://...\", \"token\": \"1234\"}"
   ]
  },
  {
   "cell_type": "code",
   "execution_count": 67,
   "metadata": {},
   "outputs": [
    {
     "data": {
      "text/plain": [
       "'http://...'"
      ]
     },
     "execution_count": 67,
     "metadata": {},
     "output_type": "execute_result"
    }
   ],
   "source": [
    "config[\"url\"]"
   ]
  },
  {
   "cell_type": "code",
   "execution_count": 68,
   "metadata": {},
   "outputs": [
    {
     "data": {
      "text/plain": [
       "1.25"
      ]
     },
     "execution_count": 68,
     "metadata": {},
     "output_type": "execute_result"
    }
   ],
   "source": [
    "5/4"
   ]
  },
  {
   "cell_type": "code",
   "execution_count": 69,
   "metadata": {},
   "outputs": [
    {
     "data": {
      "text/plain": [
       "1"
      ]
     },
     "execution_count": 69,
     "metadata": {},
     "output_type": "execute_result"
    }
   ],
   "source": [
    "5//4 # division euclidienne sur python 3"
   ]
  },
  {
   "cell_type": "code",
   "execution_count": 71,
   "metadata": {},
   "outputs": [
    {
     "data": {
      "text/plain": [
       "[0, 0, 0, 0, 0, 0, 0, 0, 0, 0]"
      ]
     },
     "execution_count": 71,
     "metadata": {},
     "output_type": "execute_result"
    }
   ],
   "source": [
    "[0] * 10"
   ]
  },
  {
   "cell_type": "code",
   "execution_count": 79,
   "metadata": {},
   "outputs": [
    {
     "data": {
      "text/plain": [
       "[12, 3]"
      ]
     },
     "execution_count": 79,
     "metadata": {},
     "output_type": "execute_result"
    }
   ],
   "source": [
    "# Slicer\n",
    "\n",
    "ma_liste = [4, 3, 8, 12]\n",
    "\n",
    "ma_liste[0:3] # 3 est l'indice du 4e element. On va de 0 au 4e element exclus\n",
    "\n",
    "ma_liste[:3]\n",
    "\n",
    "ma_liste[1:] # du 2e element au dernier\n",
    "\n",
    "ma_liste[1:-1]\n",
    "\n",
    "ma_liste[:]\n",
    "\n",
    "ma_liste[0:4:2]\n",
    "\n",
    "ma_liste[::-2]\n"
   ]
  },
  {
   "cell_type": "markdown",
   "metadata": {},
   "source": [
    "# Structures conditionnelles"
   ]
  },
  {
   "cell_type": "code",
   "execution_count": 89,
   "metadata": {},
   "outputs": [
    {
     "name": "stdout",
     "output_type": "stream",
     "text": [
      "Majeur\n",
      "affiché que si la condition est vraie\n",
      "Sortie\n"
     ]
    }
   ],
   "source": [
    "age = 26\n",
    "\n",
    "if age > 18:\n",
    "    print(\"Majeur\")\n",
    "    if age > 24:\n",
    "        print(\"affiché que si la condition est vraie\")\n",
    "\n",
    "print(\"Sortie\")"
   ]
  },
  {
   "cell_type": "code",
   "execution_count": 91,
   "metadata": {},
   "outputs": [
    {
     "name": "stdout",
     "output_type": "stream",
     "text": [
      "Mineur\n"
     ]
    }
   ],
   "source": [
    "age = 16\n",
    "\n",
    "if age > 18:\n",
    "    print(\"Majeur\")\n",
    "else:\n",
    "    print(\"Mineur\")"
   ]
  },
  {
   "cell_type": "code",
   "execution_count": 93,
   "metadata": {},
   "outputs": [
    {
     "name": "stdout",
     "output_type": "stream",
     "text": [
      "Passe ton permis\n"
     ]
    }
   ],
   "source": [
    "age = 18\n",
    "\n",
    "if age > 18:\n",
    "    print(\"Majeur\")\n",
    "elif age == 18: # condition si les conditions précédentes ne sont pas remplies\n",
    "    print(\"Passe ton permis\")\n",
    "else:\n",
    "    print(\"Mineur\")"
   ]
  },
  {
   "cell_type": "code",
   "execution_count": 94,
   "metadata": {},
   "outputs": [
    {
     "name": "stdout",
     "output_type": "stream",
     "text": [
      "Majeur\n"
     ]
    }
   ],
   "source": [
    "age = 18\n",
    "\n",
    "if age > 16:\n",
    "    print(\"Majeur\")\n",
    "elif age == 18: # condition si les conditions précédentes ne sont pas remplies\n",
    "    print(\"Passe ton permis\")\n",
    "else:\n",
    "    print(\"Mineur\")"
   ]
  },
  {
   "cell_type": "code",
   "execution_count": 98,
   "metadata": {},
   "outputs": [
    {
     "data": {
      "text/plain": [
       "38"
      ]
     },
     "execution_count": 98,
     "metadata": {},
     "output_type": "execute_result"
    }
   ],
   "source": [
    "# dico = {\"cas1\": 24, \"cas2\": 38}\n",
    "\n",
    "# cas = \"cas2\"\n",
    "\n",
    "# res = dico[cas]\n",
    "\n",
    "# res"
   ]
  },
  {
   "cell_type": "markdown",
   "metadata": {},
   "source": [
    "## Boucles"
   ]
  },
  {
   "cell_type": "code",
   "execution_count": 100,
   "metadata": {},
   "outputs": [
    {
     "name": "stdout",
     "output_type": "stream",
     "text": [
      "0\n",
      "1\n",
      "2\n",
      "3\n",
      "4\n",
      "5\n",
      "6\n",
      "7\n",
      "8\n",
      "9\n",
      "sortie\n"
     ]
    }
   ],
   "source": [
    "i = 0\n",
    "\n",
    "while i < 10:\n",
    "    print(i)\n",
    "    i += 1 # i = i + 1\n",
    "\n",
    "print(\"sortie\")"
   ]
  },
  {
   "cell_type": "code",
   "execution_count": 101,
   "metadata": {},
   "outputs": [
    {
     "name": "stdout",
     "output_type": "stream",
     "text": [
      "1\n",
      "2\n",
      "7\n"
     ]
    }
   ],
   "source": [
    "for i in [1,2,7]:\n",
    "    print(i)"
   ]
  },
  {
   "cell_type": "code",
   "execution_count": 102,
   "metadata": {},
   "outputs": [
    {
     "name": "stdout",
     "output_type": "stream",
     "text": [
      "0\n",
      "1\n",
      "2\n",
      "3\n",
      "4\n",
      "5\n",
      "6\n",
      "7\n",
      "8\n",
      "9\n"
     ]
    }
   ],
   "source": [
    "for i in range(10):\n",
    "    print(i)"
   ]
  },
  {
   "cell_type": "code",
   "execution_count": 45,
   "metadata": {},
   "outputs": [
    {
     "name": "stdout",
     "output_type": "stream",
     "text": [
      "indice 0, valeur : 2\n",
      "indice 1, valeur : 8\n",
      "indice 2, valeur : 9\n",
      "indice 0, valeur : 2\n",
      "indice 1, valeur : 8\n",
      "indice 2, valeur : 9\n"
     ]
    }
   ],
   "source": [
    "ma_liste = [2,8,9]\n",
    "\n",
    "for i in range(len(ma_liste)):\n",
    "    print(f\"indice {i}, valeur : {ma_liste[i]}\")\n",
    "    \n",
    "for i, val in enumerate(ma_liste):\n",
    "    print(f\"indice {i}, valeur : {val}\")   "
   ]
  },
  {
   "cell_type": "code",
   "execution_count": 103,
   "metadata": {},
   "outputs": [
    {
     "name": "stdout",
     "output_type": "stream",
     "text": [
      "4\n",
      "5\n",
      "6\n",
      "7\n",
      "8\n",
      "9\n"
     ]
    }
   ],
   "source": [
    "for i in range(4,10):\n",
    "    print(i)"
   ]
  },
  {
   "cell_type": "markdown",
   "metadata": {},
   "source": [
    "# Fizz Buzz\n",
    "\n",
    "Pour les entiers de 0 à 100:\n",
    "* Afficher fizz si l'entier est divisible par 3\n",
    "* Afficher buzz si l'entier est divisible par 5\n",
    "* Afficher bazz si l'entier est divisivle par 3 et 5\n",
    "* sinon afficher l'entier\n",
    "\n",
    "### Résultat :\n",
    "* bazz\n",
    "* 1\n",
    "* 2\n",
    "* fizz\n",
    "* 4\n",
    "* buzz\n",
    "* ..."
   ]
  },
  {
   "cell_type": "code",
   "execution_count": 104,
   "metadata": {},
   "outputs": [
    {
     "data": {
      "text/plain": [
       "True"
      ]
     },
     "execution_count": 104,
     "metadata": {},
     "output_type": "execute_result"
    }
   ],
   "source": [
    "4 % 2 == 0"
   ]
  },
  {
   "cell_type": "code",
   "execution_count": 105,
   "metadata": {},
   "outputs": [
    {
     "name": "stdout",
     "output_type": "stream",
     "text": [
      "bazz\n",
      "1\n",
      "2\n",
      "fizz\n",
      "4\n",
      "buzz\n",
      "fizz\n",
      "7\n",
      "8\n",
      "fizz\n",
      "buzz\n",
      "11\n",
      "fizz\n",
      "13\n",
      "14\n",
      "bazz\n",
      "16\n",
      "17\n",
      "fizz\n",
      "19\n",
      "buzz\n",
      "fizz\n",
      "22\n",
      "23\n",
      "fizz\n",
      "buzz\n",
      "26\n",
      "fizz\n",
      "28\n",
      "29\n",
      "bazz\n",
      "31\n",
      "32\n",
      "fizz\n",
      "34\n",
      "buzz\n",
      "fizz\n",
      "37\n",
      "38\n",
      "fizz\n",
      "buzz\n",
      "41\n",
      "fizz\n",
      "43\n",
      "44\n",
      "bazz\n",
      "46\n",
      "47\n",
      "fizz\n",
      "49\n",
      "buzz\n",
      "fizz\n",
      "52\n",
      "53\n",
      "fizz\n",
      "buzz\n",
      "56\n",
      "fizz\n",
      "58\n",
      "59\n",
      "bazz\n",
      "61\n",
      "62\n",
      "fizz\n",
      "64\n",
      "buzz\n",
      "fizz\n",
      "67\n",
      "68\n",
      "fizz\n",
      "buzz\n",
      "71\n",
      "fizz\n",
      "73\n",
      "74\n",
      "bazz\n",
      "76\n",
      "77\n",
      "fizz\n",
      "79\n",
      "buzz\n",
      "fizz\n",
      "82\n",
      "83\n",
      "fizz\n",
      "buzz\n",
      "86\n",
      "fizz\n",
      "88\n",
      "89\n",
      "bazz\n",
      "91\n",
      "92\n",
      "fizz\n",
      "94\n",
      "buzz\n",
      "fizz\n",
      "97\n",
      "98\n",
      "fizz\n",
      "buzz\n"
     ]
    }
   ],
   "source": [
    "for i in range(101):\n",
    "    if i % 15 == 0:\n",
    "        print(\"bazz\")\n",
    "    elif i % 3 == 0:\n",
    "        print(\"fizz\")\n",
    "    elif i % 5 == 0:\n",
    "        print(\"buzz\")\n",
    "    else:\n",
    "        print(i)"
   ]
  },
  {
   "cell_type": "markdown",
   "metadata": {},
   "source": [
    "## NOMBRE mystère\n",
    "\n",
    "#### Etape 1\n",
    "\n",
    "L'ordinateur généère un nombre aléatoire entre 0 et 100. L'utilisateur doit deviner ce nombre en faisant des proposition.  A chacune de ses proposition, si la propostion est trop grande, l'ordinateur répond \"trop grand\" et laisse l'utilisateur faire une nouvelle porposition. Si elle est trop petite, l'ordinateur répond \"trop petit\". Si elle est égale au nombre mystère, l'oridnateur répond \"Gagné\""
   ]
  },
  {
   "cell_type": "code",
   "execution_count": 1,
   "metadata": {},
   "outputs": [
    {
     "name": "stdout",
     "output_type": "stream",
     "text": [
      "Quel est votre proposition ?50\n",
      "Trop grand\n",
      "Quel est votre proposition ?25\n",
      "Trop petit\n",
      "Quel est votre proposition ?32\n",
      "Trop petit\n",
      "Quel est votre proposition ?44\n",
      "Trop grand\n",
      "Quel est votre proposition ?38\n",
      "Trop petit\n",
      "Quel est votre proposition ?40\n",
      "Trop petit\n",
      "Quel est votre proposition ?42\n",
      "Gagné\n"
     ]
    }
   ],
   "source": [
    "from random import randint\n",
    "\n",
    "secret = randint(0,100)\n",
    "\n",
    "proposition = int(input(\"Quel est votre proposition ?\"))\n",
    "\n",
    "while proposition != secret:\n",
    "    if proposition > secret:\n",
    "        print(\"Trop grand\")        \n",
    "    elif proposition < secret:\n",
    "        print(\"Trop petit\")\n",
    "    proposition = int(input(\"Quel est votre proposition ?\"))\n",
    "\n",
    "print(\"Gagné\")"
   ]
  },
  {
   "cell_type": "markdown",
   "metadata": {},
   "source": [
    "#### Etape 2\n",
    "\n",
    "L'utilisateur a un nombre mstère en tête. L'ordinateur fait des propositions auxquelles l'tuilisateur répond \"P\", \"G\" ou \"E\" pour trop petit, trop grand ou égal. L'objectif est que l'ordinateur trouve le nombre mystere."
   ]
  },
  {
   "cell_type": "code",
   "execution_count": 6,
   "metadata": {},
   "outputs": [
    {
     "name": "stdout",
     "output_type": "stream",
     "text": [
      "Je pense que c'est 50. Est-ce que c'est bon ? P/G/EP\n",
      "Je pense que c'est 75. Est-ce que c'est bon ? P/G/EP\n",
      "Je pense que c'est 88. Est-ce que c'est bon ? P/G/E\n",
      "Je pense que c'est 88. Est-ce que c'est bon ? P/G/EP\n",
      "Je pense que c'est 94. Est-ce que c'est bon ? P/G/EP\n",
      "Je pense que c'est 97. Est-ce que c'est bon ? P/G/EP\n",
      "Je pense que c'est 99. Est-ce que c'est bon ? P/G/EP\n",
      "Je pense que c'est 100. Est-ce que c'est bon ? P/G/EE\n",
      "Gagné\n"
     ]
    }
   ],
   "source": [
    "borne_min = 0\n",
    "borne_max = 101\n",
    "\n",
    "reponse = None\n",
    "\n",
    "while reponse != \"E\":\n",
    "    proposition = (borne_min + borne_max) // 2\n",
    "    reponse = input(f\"Je pense que c'est {proposition}. Est-ce que c'est bon ? P/G/E\")\n",
    "    if reponse == \"P\":\n",
    "        borne_min = proposition\n",
    "    elif reponse == \"G\":\n",
    "        borne_max = proposition\n",
    "        \n",
    "print(\"Gagné\")"
   ]
  },
  {
   "cell_type": "markdown",
   "metadata": {},
   "source": [
    "## Bonus\n",
    "\n",
    "#### Comprehensive list\n",
    "\n",
    "#### Affectation multiple / conditionnelle\n"
   ]
  },
  {
   "cell_type": "code",
   "execution_count": 9,
   "metadata": {},
   "outputs": [
    {
     "data": {
      "text/plain": [
       "['192.168.1.2',\n",
       " '192.168.1.3',\n",
       " '192.168.1.4',\n",
       " '192.168.1.5',\n",
       " '192.168.1.6',\n",
       " '192.168.1.7',\n",
       " '192.168.1.8']"
      ]
     },
     "execution_count": 9,
     "metadata": {},
     "output_type": "execute_result"
    }
   ],
   "source": [
    "liste_config = [\n",
    "    {\"ip\": \"192.168.1.2\", \"name\": \"Ordi 1\", \"os\": \"Windows 10\"},\n",
    "    {\"ip\": \"192.168.1.3\", \"name\": \"Ordi 2\", \"os\": \"Windows 10\"},\n",
    "    {\"ip\": \"192.168.1.4\", \"name\": \"Ordi 3\", \"os\": \"Windows 10\"},\n",
    "    {\"ip\": \"192.168.1.5\", \"name\": \"Ordi 4\", \"os\": \"Windows 10\"},\n",
    "    {\"ip\": \"192.168.1.6\", \"name\": \"Ordi 5\", \"os\": \"Ubuntu\"},\n",
    "    {\"ip\": \"192.168.1.7\", \"name\": \"Ordi 6\", \"os\": \"Ubuntu\"},\n",
    "    {\"ip\": \"192.168.1.8\", \"name\": \"Ordi 7\", \"os\": \"Redhat\"},\n",
    "]\n",
    "\n",
    "\n",
    "\n",
    "# liste_ip = []\n",
    "# for conf in liste_config:\n",
    "#     liste_ip.append(conf[\"ip\"])\n",
    "\n",
    "# comprehensive list\n",
    "# liste_age = [eleve[\"age\"] * 2 for eleve in liste_eleve]\n",
    "liste_ip = [conf[\"ip\"] for conf in liste_config]\n",
    "\n",
    "liste_ip"
   ]
  },
  {
   "cell_type": "code",
   "execution_count": 11,
   "metadata": {},
   "outputs": [
    {
     "data": {
      "text/plain": [
       "'majeur'"
      ]
     },
     "execution_count": 11,
     "metadata": {},
     "output_type": "execute_result"
    }
   ],
   "source": [
    "age = 28\n",
    "\n",
    "# etat = None\n",
    "# if age > 18:\n",
    "#     etat = \"majeur\"\n",
    "# else:\n",
    "#     etat = \"mineur\"\n",
    "    \n",
    "# affectation conditionnelle\n",
    "etat = \"majeur\" if age > 18 else \"mineur\"\n",
    "\n",
    "etat"
   ]
  },
  {
   "cell_type": "code",
   "execution_count": 12,
   "metadata": {},
   "outputs": [
    {
     "name": "stdout",
     "output_type": "stream",
     "text": [
      "2\n",
      "4\n"
     ]
    }
   ],
   "source": [
    "a, b = 2, 4\n",
    "\n",
    "print(a)\n",
    "print(b)"
   ]
  },
  {
   "cell_type": "code",
   "execution_count": 13,
   "metadata": {},
   "outputs": [],
   "source": [
    "def dire_bonjour():\n",
    "    print(\"Bonjour\")"
   ]
  },
  {
   "cell_type": "code",
   "execution_count": 14,
   "metadata": {},
   "outputs": [
    {
     "name": "stdout",
     "output_type": "stream",
     "text": [
      "Bonjour\n"
     ]
    }
   ],
   "source": [
    "dire_bonjour()"
   ]
  },
  {
   "cell_type": "code",
   "execution_count": 15,
   "metadata": {},
   "outputs": [],
   "source": [
    "def dire_bonjour():\n",
    "    return \"Bonjour\""
   ]
  },
  {
   "cell_type": "code",
   "execution_count": 20,
   "metadata": {},
   "outputs": [
    {
     "name": "stdout",
     "output_type": "stream",
     "text": [
      "Bonjour\n",
      "Hello\n"
     ]
    }
   ],
   "source": [
    "a = dire_bonjour()\n",
    "print(a)\n",
    "\n",
    "# print(dire_bonjour())\n",
    "\n",
    "print(\"Hello\")"
   ]
  },
  {
   "cell_type": "code",
   "execution_count": 31,
   "metadata": {},
   "outputs": [
    {
     "name": "stdout",
     "output_type": "stream",
     "text": [
      "Je m'appelle Mickael. J'ai 29 ans. J'habite à Paris\n",
      "Je m'appelle Mickael. J'ai 29 ans. J'habite à Londres\n",
      "Je m'appelle Mickaela. J'ai 29 ans. J'habite à Rio\n",
      "Je m'appelle Mickaela. J'ai 29 ans. J'habite à Rio\n"
     ]
    },
    {
     "ename": "TypeError",
     "evalue": "dire_bonjour() missing 1 required positional argument: 'age'",
     "output_type": "error",
     "traceback": [
      "\u001b[1;31m---------------------------------------------------------------------------\u001b[0m",
      "\u001b[1;31mTypeError\u001b[0m                                 Traceback (most recent call last)",
      "\u001b[1;32m<ipython-input-31-53e72857f9cd>\u001b[0m in \u001b[0;36m<module>\u001b[1;34m\u001b[0m\n\u001b[0;32m      7\u001b[0m \u001b[1;31m# dire_bonjour(\"Mickaela\", city=\"Rio\", 29) # les paramètres nommés en dernier\u001b[0m\u001b[1;33m\u001b[0m\u001b[1;33m\u001b[0m\u001b[1;33m\u001b[0m\u001b[0m\n\u001b[0;32m      8\u001b[0m \u001b[0mdire_bonjour\u001b[0m\u001b[1;33m(\u001b[0m\u001b[1;34m\"Mickaela\"\u001b[0m\u001b[1;33m,\u001b[0m \u001b[0mcity\u001b[0m\u001b[1;33m=\u001b[0m\u001b[1;34m\"Rio\"\u001b[0m\u001b[1;33m,\u001b[0m \u001b[0mage\u001b[0m\u001b[1;33m=\u001b[0m\u001b[1;36m29\u001b[0m\u001b[1;33m)\u001b[0m \u001b[1;31m# les paramètres obligatoires peuvent être nommés à l'appel\u001b[0m\u001b[1;33m\u001b[0m\u001b[1;33m\u001b[0m\u001b[0m\n\u001b[1;32m----> 9\u001b[1;33m \u001b[0mdire_bonjour\u001b[0m\u001b[1;33m(\u001b[0m\u001b[1;34m\"Mickaela\"\u001b[0m\u001b[1;33m,\u001b[0m \u001b[0mcity\u001b[0m\u001b[1;33m=\u001b[0m\u001b[1;34m\"Rio\"\u001b[0m\u001b[1;33m)\u001b[0m \u001b[1;31m# les paramètres obligatoires sont obligatoires\u001b[0m\u001b[1;33m\u001b[0m\u001b[1;33m\u001b[0m\u001b[0m\n\u001b[0m\u001b[0;32m     10\u001b[0m \u001b[1;33m\u001b[0m\u001b[0m\n",
      "\u001b[1;31mTypeError\u001b[0m: dire_bonjour() missing 1 required positional argument: 'age'"
     ]
    }
   ],
   "source": [
    "def dire_bonjour(name, age, city=\"Paris\"):\n",
    "    print(f\"Je m'appelle {name}. J'ai {age} ans. J'habite à {city}\")\n",
    "    \n",
    "dire_bonjour(\"Mickael\", 29)\n",
    "dire_bonjour(\"Mickael\", 29, \"Londres\")\n",
    "dire_bonjour(\"Mickaela\", 29, city=\"Rio\")\n",
    "# dire_bonjour(\"Mickaela\", city=\"Rio\", 29) # les paramètres nommés en dernier\n",
    "dire_bonjour(\"Mickaela\", city=\"Rio\", age=29) # les paramètres obligatoires peuvent être nommés à l'appel\n",
    "# dire_bonjour(\"Mickaela\", city=\"Rio\") # les paramètres obligatoires sont obligatoires\n",
    "\n"
   ]
  },
  {
   "cell_type": "markdown",
   "metadata": {},
   "source": [
    "# Tri bulle"
   ]
  },
  {
   "cell_type": "code",
   "execution_count": 34,
   "metadata": {},
   "outputs": [
    {
     "name": "stdout",
     "output_type": "stream",
     "text": [
      "[0, 1, 3, 4, 5, 7, 9]\n"
     ]
    }
   ],
   "source": [
    "array = [3,7,1,5,4,9,0]\n",
    "\n",
    "for j in range(len(array)-1):\n",
    "    for i in range(len(array)-1):\n",
    "        if array[i] > array[i+1]:\n",
    "            array[i], array[i+1] = array[i+1], array[i]\n",
    "        \n",
    "print(array)"
   ]
  },
  {
   "cell_type": "code",
   "execution_count": 36,
   "metadata": {},
   "outputs": [],
   "source": [
    "array = [3,7,1,5,4,9,0]\n",
    "\n",
    "for i, val in enumerate(array[:-1]):\n",
    "    if array[i] > array[i+1]:\n",
    "            array[i], array[i+1] = array[i+1], array[i]\n",
    "\n",
    "# array = [3,7,1,5,4,9,0]\n",
    "\n",
    "# for j in range(len(array)-1):\n",
    "#     for i1, i2 in zip(array[:-1], array[1:]):\n",
    "#         if i1 > i2:\n",
    "        \n",
    "# print(array)"
   ]
  },
  {
   "cell_type": "code",
   "execution_count": 37,
   "metadata": {},
   "outputs": [
    {
     "name": "stdout",
     "output_type": "stream",
     "text": [
      "1 5\n",
      "4 7\n",
      "3 9\n"
     ]
    }
   ],
   "source": [
    "for i, j in zip([1,4,3],[5,7,9]):\n",
    "    print(i, j)"
   ]
  },
  {
   "cell_type": "code",
   "execution_count": 40,
   "metadata": {},
   "outputs": [
    {
     "name": "stdout",
     "output_type": "stream",
     "text": [
      "1 5\n",
      "1 7\n",
      "1 9\n",
      "4 5\n",
      "4 7\n",
      "4 9\n",
      "3 5\n",
      "3 7\n",
      "3 9\n"
     ]
    }
   ],
   "source": [
    "from itertools import product\n",
    "\n",
    "for i, j in product([1,4,3],[5,7,9]):\n",
    "    print(i, j)"
   ]
  },
  {
   "cell_type": "markdown",
   "metadata": {},
   "source": [
    "# Tri fusion"
   ]
  },
  {
   "cell_type": "code",
   "execution_count": 43,
   "metadata": {},
   "outputs": [
    {
     "data": {
      "text/plain": [
       "[1, 3, 4, 6, 7, 9]"
      ]
     },
     "execution_count": 43,
     "metadata": {},
     "output_type": "execute_result"
    }
   ],
   "source": [
    "# 1, 4, 8\n",
    "# 2, 3, 5\n",
    "\n",
    "# 1, 2, 3, 4, 5, 8\n",
    "\n",
    "\n",
    "\n",
    "def fusion(arr1, arr2):\n",
    "    i = 0\n",
    "    j = 0\n",
    "    res = []\n",
    "    while i < len(arr1) and j < len(arr2):\n",
    "        if arr1[i] < arr2[j]:\n",
    "            res.append(arr1[i])\n",
    "            i += 1\n",
    "        else:\n",
    "            res.append(arr2[j])\n",
    "            j += 1\n",
    "            \n",
    "    res = res + arr2[j:]\n",
    "    res = res + arr1[i:]\n",
    "    \n",
    "    return res\n",
    "\n",
    "fusion([2,4,8], [3,7,9,11])\n",
    "\n",
    "def tri_fusion(arr):\n",
    "    if len(arr) < 2:\n",
    "        return arr\n",
    "    elif len(arr) == 2:\n",
    "        if arr[0] > arr[1]:\n",
    "            return arr[::-1]\n",
    "        return arr\n",
    "    else:\n",
    "        arr1 = arr[:len(arr)//2] # premiere moitie\n",
    "        arr2 = arr[len(arr)//2:] # deuxieme moitie\n",
    "        return fusion(tri_fusion(arr1), tri_fusion(arr2))\n",
    "    \n",
    "    \n",
    "tri_fusion([6,7,9,1,4,3])"
   ]
  },
  {
   "cell_type": "code",
   "execution_count": null,
   "metadata": {},
   "outputs": [],
   "source": []
  }
 ],
 "metadata": {
  "kernelspec": {
   "display_name": "Python 3",
   "language": "python",
   "name": "python3"
  },
  "language_info": {
   "codemirror_mode": {
    "name": "ipython",
    "version": 3
   },
   "file_extension": ".py",
   "mimetype": "text/x-python",
   "name": "python",
   "nbconvert_exporter": "python",
   "pygments_lexer": "ipython3",
   "version": "3.7.3"
  }
 },
 "nbformat": 4,
 "nbformat_minor": 4
}
