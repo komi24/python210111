{
 "cells": [
  {
   "cell_type": "markdown",
   "metadata": {},
   "source": [
    "## Fonctions : la portée variable"
   ]
  },
  {
   "cell_type": "code",
   "execution_count": 5,
   "metadata": {},
   "outputs": [
    {
     "name": "stdout",
     "output_type": "stream",
     "text": [
      "Bonjour Olivier\n",
      "Olivier\n"
     ]
    }
   ],
   "source": [
    "name = \"Mathilde\"\n",
    "\n",
    "def dire_bonjour():\n",
    "    print(f\"Bonjour {name}\")\n",
    "    \n",
    "    \n",
    "name = \"Olivier\"\n",
    "dire_bonjour()\n",
    "print(name)\n"
   ]
  },
  {
   "cell_type": "code",
   "execution_count": 6,
   "metadata": {},
   "outputs": [
    {
     "name": "stdout",
     "output_type": "stream",
     "text": [
      "Bonjour Nicolas\n",
      "Olivier\n"
     ]
    }
   ],
   "source": [
    "name = \"Mathilde\"\n",
    "\n",
    "def dire_bonjour():\n",
    "    name = \"Nicolas\"\n",
    "    print(f\"Bonjour {name}\")\n",
    "    \n",
    "    \n",
    "name = \"Olivier\"\n",
    "dire_bonjour()\n",
    "print(name)\n"
   ]
  },
  {
   "cell_type": "code",
   "execution_count": 7,
   "metadata": {},
   "outputs": [
    {
     "ename": "UnboundLocalError",
     "evalue": "local variable 'name' referenced before assignment",
     "output_type": "error",
     "traceback": [
      "\u001b[1;31m---------------------------------------------------------------------------\u001b[0m",
      "\u001b[1;31mUnboundLocalError\u001b[0m                         Traceback (most recent call last)",
      "\u001b[1;32m<ipython-input-7-2449094a9285>\u001b[0m in \u001b[0;36m<module>\u001b[1;34m\u001b[0m\n\u001b[0;32m      7\u001b[0m \u001b[1;33m\u001b[0m\u001b[0m\n\u001b[0;32m      8\u001b[0m \u001b[0mname\u001b[0m \u001b[1;33m=\u001b[0m \u001b[1;34m\"Olivier\"\u001b[0m\u001b[1;33m\u001b[0m\u001b[1;33m\u001b[0m\u001b[0m\n\u001b[1;32m----> 9\u001b[1;33m \u001b[0mdire_bonjour\u001b[0m\u001b[1;33m(\u001b[0m\u001b[1;33m)\u001b[0m\u001b[1;33m\u001b[0m\u001b[1;33m\u001b[0m\u001b[0m\n\u001b[0m\u001b[0;32m     10\u001b[0m \u001b[0mprint\u001b[0m\u001b[1;33m(\u001b[0m\u001b[0mname\u001b[0m\u001b[1;33m)\u001b[0m\u001b[1;33m\u001b[0m\u001b[1;33m\u001b[0m\u001b[0m\n",
      "\u001b[1;32m<ipython-input-7-2449094a9285>\u001b[0m in \u001b[0;36mdire_bonjour\u001b[1;34m()\u001b[0m\n\u001b[0;32m      2\u001b[0m \u001b[1;33m\u001b[0m\u001b[0m\n\u001b[0;32m      3\u001b[0m \u001b[1;32mdef\u001b[0m \u001b[0mdire_bonjour\u001b[0m\u001b[1;33m(\u001b[0m\u001b[1;33m)\u001b[0m\u001b[1;33m:\u001b[0m\u001b[1;33m\u001b[0m\u001b[1;33m\u001b[0m\u001b[0m\n\u001b[1;32m----> 4\u001b[1;33m     \u001b[0mprint\u001b[0m\u001b[1;33m(\u001b[0m\u001b[1;34mf\"Bonjour {name}\"\u001b[0m\u001b[1;33m)\u001b[0m\u001b[1;33m\u001b[0m\u001b[1;33m\u001b[0m\u001b[0m\n\u001b[0m\u001b[0;32m      5\u001b[0m     \u001b[0mname\u001b[0m \u001b[1;33m=\u001b[0m \u001b[1;34m\"Nicolas\"\u001b[0m\u001b[1;33m\u001b[0m\u001b[1;33m\u001b[0m\u001b[0m\n\u001b[0;32m      6\u001b[0m \u001b[1;33m\u001b[0m\u001b[0m\n",
      "\u001b[1;31mUnboundLocalError\u001b[0m: local variable 'name' referenced before assignment"
     ]
    }
   ],
   "source": [
    "name = \"Mathilde\"\n",
    "\n",
    "def dire_bonjour():\n",
    "    print(f\"Bonjour {name}\")\n",
    "    name = \"Nicolas\"\n",
    "    \n",
    "    \n",
    "name = \"Olivier\"\n",
    "dire_bonjour()\n",
    "print(name)\n"
   ]
  },
  {
   "cell_type": "code",
   "execution_count": 10,
   "metadata": {},
   "outputs": [
    {
     "name": "stdout",
     "output_type": "stream",
     "text": [
      "Bonjour Nicolas\n",
      "{'name': 'Nicolas'}\n"
     ]
    }
   ],
   "source": [
    "personne = {\"name\": \"Mathilde\"}\n",
    "\n",
    "def dire_bonjour():\n",
    "    personne[\"name\"] = \"Nicolas\"\n",
    "    print(f\"Bonjour {personne['name']}\")\n",
    "    \n",
    "    \n",
    "personne[\"name\"] = \"Olivier\"\n",
    "dire_bonjour()\n",
    "print(personne)\n"
   ]
  },
  {
   "cell_type": "code",
   "execution_count": 11,
   "metadata": {},
   "outputs": [
    {
     "name": "stdout",
     "output_type": "stream",
     "text": [
      "Bonjour Nicolas\n",
      "{'name': 'Nicolas'}\n"
     ]
    }
   ],
   "source": [
    "personne = {\"name\": \"Mathilde\"}\n",
    "\n",
    "def dire_bonjour(p):\n",
    "    p[\"name\"] = \"Nicolas\"\n",
    "    print(f\"Bonjour {p['name']}\")\n",
    "    \n",
    "    \n",
    "personne[\"name\"] = \"Olivier\"\n",
    "dire_bonjour(personne)\n",
    "print(personne)\n"
   ]
  },
  {
   "cell_type": "code",
   "execution_count": 13,
   "metadata": {},
   "outputs": [
    {
     "name": "stdout",
     "output_type": "stream",
     "text": [
      "{'name': 'Mathilde'}\n",
      "{'name': 'Bastien'}\n"
     ]
    }
   ],
   "source": [
    "a = {\"name\": \"Mathilde\"}\n",
    "b = a\n",
    "\n",
    "print(b)\n",
    "b[\"name\"] = \"Bastien\" # mutation\n",
    "\n",
    "print(a)"
   ]
  },
  {
   "cell_type": "code",
   "execution_count": 14,
   "metadata": {},
   "outputs": [
    {
     "name": "stdout",
     "output_type": "stream",
     "text": [
      "2\n",
      "2\n"
     ]
    }
   ],
   "source": [
    "a = 2\n",
    "b = a\n",
    "\n",
    "print(b)\n",
    "b = 5 # affectation\n",
    "\n",
    "print(a)"
   ]
  },
  {
   "cell_type": "code",
   "execution_count": 16,
   "metadata": {},
   "outputs": [
    {
     "name": "stdout",
     "output_type": "stream",
     "text": [
      "{'name': 'Mathilde'}\n",
      "{'name': 'Mathilde'}\n"
     ]
    }
   ],
   "source": [
    "a = {\"name\": \"Mathilde\"}\n",
    "b = a\n",
    "\n",
    "print(b)\n",
    "b = {\"name\": \"Bastien\"} # affectation\n",
    "\n",
    "print(a)"
   ]
  },
  {
   "cell_type": "code",
   "execution_count": 18,
   "metadata": {},
   "outputs": [
    {
     "name": "stdout",
     "output_type": "stream",
     "text": [
      "Bonjour Bastien\n"
     ]
    }
   ],
   "source": [
    "personne = {\"name\": \"Mathilde\"}\n",
    "personne1 = {\"name\": \"Bastien\"}\n",
    "\n",
    "def dire_bonjour(personne):\n",
    "    print(f\"Bonjour {personne['name']}\")\n",
    "    \n",
    "    \n",
    "dire_bonjour(personne1) # on appelle la fonction avec la variable personne1\n"
   ]
  },
  {
   "cell_type": "markdown",
   "metadata": {},
   "source": [
    "## Expression régulière"
   ]
  },
  {
   "cell_type": "code",
   "execution_count": 26,
   "metadata": {},
   "outputs": [
    {
     "name": "stdout",
     "output_type": "stream",
     "text": [
      "<re.Match object; span=(0, 4), match='GR.S'>\n",
      "<re.Match object; span=(0, 4), match='GRIS'>\n",
      "<re.Match object; span=(0, 4), match='GR.S'>\n",
      "None\n"
     ]
    }
   ],
   "source": [
    "import re\n",
    "\n",
    "print(re.match(\"GR.?S\", \"GR.S\")) # le \".\" signifie n'importe quel caractère\n",
    "print(re.match(\"GR.?S\", \"GRIS\"))\n",
    "\n",
    "print(re.match(\"GR\\.?S\", \"GR.S\")) # le \"\\.\" signifie un point\n",
    "print(re.match(\"GR\\.?S\", \"GRIS\"))"
   ]
  },
  {
   "cell_type": "code",
   "execution_count": 36,
   "metadata": {},
   "outputs": [
    {
     "data": {
      "text/plain": [
       "[('06.37.48.57.92', '57.')]"
      ]
     },
     "execution_count": 36,
     "metadata": {},
     "output_type": "execute_result"
    }
   ],
   "source": [
    "chaine1 = \"Bonjour, mon numéro est 0637485792. Quel est le votre ?\"\n",
    "chaine2 = \"Bonjour, mon numéro est 06.37.48.57.92, . Quel est le votre ?\"\n",
    "chaine3 = \"Bonjour, mon numéro est 06 37 48 57 92 . Quel est le votre ?\"\n",
    "chaine4 = \"Bonjour, mon numéro est 06-37-48-57-92 . Quel est le votre ?\"\n",
    "chaine5 = \"Bonjour, mon numéro est 06374857 . Quel est le votre ?\"\n",
    "chaine6 = \"Bonjour, mon numéro est 6 37 48 57 92 . Quel est le votre ?\"\n",
    "\n",
    "# récupérer (avec findall) les numéros de téléphone de la forme 0637898145 dans une chaine de caractères\n",
    "re.findall(\"\\d{10}\", chaine1)\n",
    "\n",
    "# récupérer (avec findall) les numéros de téléphone de la forme 06.37.89.81.45 dans une chaine de caractères\n",
    "re.findall(\"((\\d{2}\\.){4}\\d{2})\", chaine2)\n",
    "\n",
    "# récupérer (avec findall) les numéros de téléphone de la forme 06.37.89.81.45, 0637898145, 06 37 89 81 45 dans une chaine de caractères\n",
    "re.findall(\"((\\d{2}[ \\.]?){4}\\d{2})\", chaine2)\n"
   ]
  },
  {
   "cell_type": "code",
   "execution_count": 42,
   "metadata": {},
   "outputs": [
    {
     "data": {
      "text/plain": [
       "'Bonjour, mon numéro est 6 37 48 57 92 . Quel est le votre ?'"
      ]
     },
     "execution_count": 42,
     "metadata": {},
     "output_type": "execute_result"
    }
   ],
   "source": [
    "re.sub(\"((\\d{2}[ \\.]?){4}\\d{2})\", \"[tel]\", chaine6)\n"
   ]
  },
  {
   "cell_type": "markdown",
   "metadata": {},
   "source": [
    "# Fichiers"
   ]
  },
  {
   "cell_type": "code",
   "execution_count": 53,
   "metadata": {},
   "outputs": [],
   "source": [
    "f = open(\"mon_fichier.txt\", \"a\")\n",
    "\n",
    "f.write(\"Bonjour \\n Mathieu \\n\")\n",
    "\n",
    "f.close()"
   ]
  },
  {
   "cell_type": "code",
   "execution_count": 46,
   "metadata": {},
   "outputs": [
    {
     "name": "stdout",
     "output_type": "stream",
     "text": [
      "Bonjour \n",
      "\n"
     ]
    }
   ],
   "source": [
    "f = open(\"mon_fichier.txt\", \"r\")\n",
    "\n",
    "content = f.read()\n",
    "\n",
    "f.close()\n",
    "\n",
    "print(content)"
   ]
  },
  {
   "cell_type": "code",
   "execution_count": 47,
   "metadata": {},
   "outputs": [
    {
     "name": "stdout",
     "output_type": "stream",
     "text": [
      "Bonjour \n",
      "\n"
     ]
    }
   ],
   "source": [
    "f = open(\"mon_fichier.txt\", \"r\")\n",
    "\n",
    "try:\n",
    "    content = f.read()\n",
    "    print(content)\n",
    "except:\n",
    "    print(\"Error\")\n",
    "finally:\n",
    "    f.close()\n",
    "\n"
   ]
  },
  {
   "cell_type": "code",
   "execution_count": 52,
   "metadata": {},
   "outputs": [
    {
     "name": "stdout",
     "output_type": "stream",
     "text": [
      "line Bonjour \n",
      "\n",
      "line  Mathieu \n",
      "\n"
     ]
    }
   ],
   "source": [
    "with open(\"mon_fichier.txt\", \"r\") as f:\n",
    "    for line in f.readlines():\n",
    "        print(\"line\", line)"
   ]
  },
  {
   "cell_type": "code",
   "execution_count": null,
   "metadata": {},
   "outputs": [],
   "source": []
  }
 ],
 "metadata": {
  "kernelspec": {
   "display_name": "Python 3",
   "language": "python",
   "name": "python3"
  },
  "language_info": {
   "codemirror_mode": {
    "name": "ipython",
    "version": 3
   },
   "file_extension": ".py",
   "mimetype": "text/x-python",
   "name": "python",
   "nbconvert_exporter": "python",
   "pygments_lexer": "ipython3",
   "version": "3.7.3"
  }
 },
 "nbformat": 4,
 "nbformat_minor": 4
}
