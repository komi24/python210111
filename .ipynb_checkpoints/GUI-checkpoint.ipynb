{
 "cells": [
  {
   "cell_type": "code",
   "execution_count": 6,
   "metadata": {},
   "outputs": [],
   "source": [
    "from tkinter import Tk, Label, Button, LEFT, RIGHT, TOP, BOTTOM\n",
    "\n",
    "\n",
    "fen = Tk()\n",
    "\n",
    "label = Label(fen, text=\"Bonjour tout le monde\")\n",
    "label.pack(side=LEFT)\n",
    "\n",
    "button = Button(fen, text=\"Bouton 1\")\n",
    "button.pack() # side=TOP par défaut\n",
    "\n",
    "button = Button(fen, text=\"Bouton 2\")\n",
    "button.pack(side=RIGHT)\n",
    "\n",
    "button = Button(fen, text=\"Bouton 3\")\n",
    "button.pack(side=RIGHT)\n",
    "\n",
    "\n",
    "fen.mainloop()\n"
   ]
  },
  {
   "cell_type": "code",
   "execution_count": 8,
   "metadata": {},
   "outputs": [],
   "source": [
    "fen = Tk()\n",
    "\n",
    "button = Button(fen, text=\"Bouton 1\", padx=4, pady=4)\n",
    "button.grid(column=1, row=0)\n",
    "\n",
    "button = Button(fen, text=\"Bouton 2\", padx=4, pady=4)\n",
    "button.grid(column=0, row=1)\n",
    "\n",
    "button = Button(fen, text=\"Bouton 3\", padx=4, pady=4)\n",
    "button.grid(column=1, row=1)\n",
    "\n",
    "\n",
    "fen.mainloop()"
   ]
  },
  {
   "cell_type": "code",
   "execution_count": 11,
   "metadata": {},
   "outputs": [],
   "source": [
    "fen = Tk()\n",
    "\n",
    "button = Button(fen, text=\"Bouton 1\", height=3, width=9)\n",
    "button.grid(column=1, row=0)\n",
    "\n",
    "button = Button(fen, text=\"Bouton 2\", height=3, width=9)\n",
    "button.grid(column=0, row=1)\n",
    "\n",
    "button = Button(fen, text=\"Bouton 3\", height=3, width=9)\n",
    "button.grid(column=1, row=1)\n",
    "\n",
    "\n",
    "fen.mainloop()"
   ]
  },
  {
   "cell_type": "code",
   "execution_count": 16,
   "metadata": {},
   "outputs": [],
   "source": [
    "fen = Tk()\n",
    "\n",
    "for i in range(9):\n",
    "    button = Button(fen, text=f\"{i+1}\", height=3, width=9)\n",
    "    button.grid(column=i%3, row=2-i//3)\n",
    "\n",
    "fen.mainloop()"
   ]
  },
  {
   "cell_type": "code",
   "execution_count": 48,
   "metadata": {},
   "outputs": [],
   "source": [
    "from tkinter import Tk, Label, Frame, Button, LEFT, RIGHT, TOP, BOTTOM\n",
    "\n",
    "\n",
    "fen = Tk()\n",
    "\n",
    "label = Label(fen, text=\"0\", height=3)\n",
    "label.pack()\n",
    "\n",
    "frame_num = Frame(fen)\n",
    "frame_num.pack(expand=True, fill=\"both\")\n",
    "\n",
    "for i in range(9):\n",
    "    button = Button(frame_num, text=f\"{i+1}\", height=3, width=9)\n",
    "    button.grid(column=i%3, row=2-i//3)\n",
    "\n",
    "for i, op in enumerate([\"+\",\"-\",\"*\",\"/\"]):\n",
    "    button = Button(frame_num, text=op, height=3, width=9)\n",
    "    button.grid(column=3, row=i)\n",
    "    \n",
    "button_ce = Button(frame_num, text=\"CE\", width=9)\n",
    "button_ce.grid(column=4, row=0, rowspan=4, sticky=\"NS\")\n",
    "\n",
    "button_zero = Button(frame_num, text=\"0\", height=3)\n",
    "button_zero.grid(column=0, row=3, columnspan=3, sticky='EW')\n",
    "\n",
    "button_zero = Button(frame_num, text=\"=\", height=3)\n",
    "button_zero.grid(column=0, row=4, columnspan=5, sticky='EW')\n",
    "\n",
    "\n",
    "fen.mainloop()"
   ]
  },
  {
   "cell_type": "code",
   "execution_count": 63,
   "metadata": {},
   "outputs": [
    {
     "name": "stdout",
     "output_type": "stream",
     "text": [
      "click\n",
      "4\n",
      "click\n",
      "5\n",
      "click\n",
      "2\n"
     ]
    }
   ],
   "source": [
    "from tkinter import Tk, Label, Frame, Button, LEFT, RIGHT, TOP, BOTTOM, StringVar\n",
    "\n",
    "\n",
    "fen = Tk()\n",
    "\n",
    "# ajouter le handle_click au bouton_zero\n",
    "# afficher le chiffre sur lequel on a cliqué dans le Label\n",
    "# afficher l'ensemble des chiffres sur lesquels on a cliqué dans le label (on doit pouvoir afficher \"123\")\n",
    "resultat = StringVar()\n",
    "resultat.set(\"0\")\n",
    "# resultat.get() => \"0\"\n",
    "\n",
    "def handle_click(e):\n",
    "    print(\"click\")\n",
    "    print(e.widget.cget(\"text\"))\n",
    "    if resultat.get() == \"0\":\n",
    "        resultat.set(e.widget.cget(\"text\"))\n",
    "    else:\n",
    "        resultat.set(resultat.get() + e.widget.cget(\"text\"))\n",
    "\n",
    "\n",
    "label = Label(fen, textvariable=resultat, height=3)\n",
    "label.pack()\n",
    "\n",
    "\n",
    "button_equal = Button(fen, text=\"=\", height=3)\n",
    "button_equal.pack(side=BOTTOM, fill=\"both\")\n",
    "\n",
    "button_ce = Button(fen, text=\"CE\", width=9)\n",
    "button_ce.pack(side=RIGHT, fill=\"both\")\n",
    "\n",
    "frame_op = Frame(fen)\n",
    "frame_op.pack(side=RIGHT)\n",
    "\n",
    "button_zero = Button(fen, text=\"0\", height=3)\n",
    "button_zero.pack(side=BOTTOM, fill=\"both\")\n",
    "button_zero.bind(\"<Button-1>\", handle_click)\n",
    "\n",
    "frame_num = Frame(fen)\n",
    "frame_num.pack()\n",
    "\n",
    "for i in range(9):\n",
    "    button = Button(frame_num, text=f\"{i+1}\", height=3, width=9)\n",
    "    button.grid(column=i%3, row=2-i//3)\n",
    "    button.bind(\"<Button-1>\", handle_click)\n",
    "\n",
    "for i, op in enumerate([\"+\",\"-\",\"*\",\"/\"]):\n",
    "    button = Button(frame_op, text=op, height=3, width=9)\n",
    "    button.grid(column=3, row=i)\n",
    "    \n",
    "fen.mainloop()\n",
    "\n"
   ]
  },
  {
   "cell_type": "code",
   "execution_count": 91,
   "metadata": {},
   "outputs": [],
   "source": [
    "from tkinter import Tk, Label, Frame, Button, LEFT, RIGHT, TOP, BOTTOM, StringVar\n",
    "\n",
    "\n",
    "class CalculatriceUI:\n",
    "    def __init__(self):\n",
    "        # créer l'interface\n",
    "        self.fen = Tk()\n",
    "        self.resultat = StringVar()\n",
    "        self.resultat.set(\"0\")\n",
    "\n",
    "        label = Label(self.fen, textvariable=self.resultat, height=3)\n",
    "        label.pack()\n",
    "\n",
    "        button_equal = Button(self.fen, text=\"=\", height=3)\n",
    "        button_equal.pack(side=BOTTOM, fill=\"both\")\n",
    "        button_equal.bind(\"<Button-1>\", self.handle_enter)\n",
    "\n",
    "        button_ce = Button(self.fen, text=\"CE\", width=9)\n",
    "        button_ce.pack(side=RIGHT, fill=\"both\")\n",
    "        button_ce.bind(\"<Button-1>\", self.handle_clear)\n",
    "\n",
    "        frame_op = Frame(self.fen)\n",
    "        frame_op.pack(side=RIGHT)\n",
    "\n",
    "        button_zero = Button(self.fen, text=\"0\", height=3)\n",
    "        button_zero.pack(side=BOTTOM, fill=\"both\")\n",
    "        button_zero.bind(\"<Button-1>\", self.handle_num)\n",
    "\n",
    "        frame_num = Frame(self.fen)\n",
    "        frame_num.pack()\n",
    "\n",
    "        for i in range(9):\n",
    "            button = Button(frame_num, text=f\"{i+1}\", height=3, width=9)\n",
    "            button.grid(column=i%3, row=2-i//3)\n",
    "            button.bind(\"<Button-1>\", self.handle_num)\n",
    "\n",
    "        for i, op in enumerate([\"+\",\"-\",\"*\",\"/\"]):\n",
    "            button = Button(frame_op, text=op, height=3, width=9)\n",
    "            button.grid(column=3, row=i)\n",
    "            button.bind(\"<Button-1>\", self.handle_op)\n",
    "\n",
    "        \n",
    "    def handle_num(self, event):\n",
    "        pass\n",
    "    \n",
    "    def handle_op(self, event):\n",
    "        pass\n",
    "    \n",
    "    def handle_enter(self, event):\n",
    "        pass\n",
    "\n",
    "    def handle_clear(self, event):\n",
    "        pass    \n",
    "        \n",
    "    def run(self):\n",
    "        self.fen.mainloop()\n"
   ]
  },
  {
   "cell_type": "code",
   "execution_count": 92,
   "metadata": {},
   "outputs": [],
   "source": [
    "# Ajouter les bind dans les boutons d'opérateurs, et le bouton egal\n",
    "# Ajouter dans Calculatrice les attributs previous_operand=0, previous_operator=\"+\"\n",
    "# Completer la methode handle_op pour que quand on appuie sur un operateur :\n",
    "#   - on executer la l'opération avec prev_operand, current operator, et resultat, et on met le résultat dans prev_operand\n",
    "#   - on remet à zéro l'affichage (on se pprépare à obtenir de nouveaux chiffres dans résultat)\n",
    "\n",
    "class Calculatrice(CalculatriceUI):\n",
    "    def __init__(self):\n",
    "        CalculatriceUI.__init__(self)\n",
    "        self.previous_operand = 0\n",
    "        self.previous_operator = \"+\"\n",
    "\n",
    "    def handle_clear(self, event):\n",
    "        self.previous_operand = 0\n",
    "        self.previous_operator = \"+\"\n",
    "        self.resultat.set(\"0\")\n",
    "        \n",
    "    def handle_num(self, event):\n",
    "        if self.resultat.get() == \"0\":\n",
    "            self.resultat.set(event.widget.cget(\"text\"))\n",
    "        else:\n",
    "            self.resultat.set(self.resultat.get() + event.widget.cget(\"text\"))\n",
    "    \n",
    "    def handle_op(self, event):\n",
    "        if self.previous_operator == \"+\":\n",
    "            self.previous_operand += int(self.resultat.get())\n",
    "        elif self.previous_operator == \"-\":\n",
    "            self.previous_operand /= int(self.resultat.get())\n",
    "        elif self.previous_operator == \"*\":\n",
    "            self.previous_operand *= int(self.resultat.get())\n",
    "        elif self.previous_operator == \"/\":\n",
    "            self.previous_operand //= int(self.resultat.get())\n",
    "            \n",
    "        self.previous_operator = event.widget.cget(\"text\")\n",
    "        self.resultat.set(\"0\")\n",
    "        print(self.previous_operand)\n",
    "    \n",
    "    def handle_enter(self, event):\n",
    "        if self.previous_operator == \"+\":\n",
    "            self.previous_operand += int(self.resultat.get())\n",
    "        elif self.previous_operator == \"-\":\n",
    "            self.previous_operand /= int(self.resultat.get())\n",
    "        elif self.previous_operator == \"*\":\n",
    "            self.previous_operand *= int(self.resultat.get())\n",
    "        elif self.previous_operator == \"/\":\n",
    "            self.previous_operand //= int(self.resultat.get())\n",
    "        self.resultat.set(self.previous_operand)\n",
    "        self.previous_operator = \"+\"\n",
    "        self.previous_operand = 0\n",
    "\n",
    "        \n"
   ]
  },
  {
   "cell_type": "code",
   "execution_count": 93,
   "metadata": {},
   "outputs": [
    {
     "name": "stdout",
     "output_type": "stream",
     "text": [
      "12\n",
      "20\n"
     ]
    }
   ],
   "source": [
    "calc = Calculatrice()\n",
    "\n",
    "calc.run()"
   ]
  },
  {
   "cell_type": "code",
   "execution_count": 11,
   "metadata": {},
   "outputs": [
    {
     "name": "stdout",
     "output_type": "stream",
     "text": [
      ".!button\n"
     ]
    }
   ],
   "source": [
    "from tkinter import Tk, Label, Frame, Button, LEFT, RIGHT, TOP, BOTTOM, StringVar, Canvas, PhotoImage\n",
    "from tkinter.filedialog import askopenfilename\n",
    "import pandas as pd\n",
    "import matplotlib.pyplot as plt\n",
    "\n",
    "\n",
    "fen = Tk()\n",
    "\n",
    "filename = StringVar()\n",
    "filename.set(\"\")\n",
    "\n",
    "canvas = Canvas(fen, width=300, height=300)\n",
    "# image = None\n",
    "\n",
    "def open_file(e):\n",
    "#     global image\n",
    "    file = askopenfilename()\n",
    "    df = pd.read_csv(file)\n",
    "    mean = df[\"Age\"].mean()\n",
    "    filename.set(mean)\n",
    "    df[\"Age\"].hist()\n",
    "    plt.savefig(\"ageHist.png\")\n",
    "    image = PhotoImage(file=\"ageHist.png\")\n",
    "    canvas.create_image(150, 150, image=image)\n",
    "\n",
    "label = Label(fen, textvariable=filename)\n",
    "label.pack()\n",
    "\n",
    "canvas.pack()\n",
    "\n",
    "button = Button(fen, text=\"Ouvrir\")\n",
    "button.bind(\"<Button-1>\", open_file)\n",
    "button.pack()\n",
    "\n",
    "fen.mainloop()"
   ]
  },
  {
   "cell_type": "code",
   "execution_count": 104,
   "metadata": {},
   "outputs": [
    {
     "data": {
      "image/png": "[encoded data removed]",
      "text/plain": [
       "<Figure size 432x288 with 1 Axes>"
      ]
     },
     "metadata": {
      "needs_background": "light"
     },
     "output_type": "display_data"
    }
   ],
   "source": [
    "import matplotlib.pyplot as plt\n",
    "\n",
    "df = pd.read_csv(\"train.csv\")\n",
    "df[\"Age\"].hist()\n",
    "\n",
    "plt.savefig(\"ageHist.png\")"
   ]
  },
  {
   "cell_type": "code",
   "execution_count": 103,
   "metadata": {},
   "outputs": [],
   "source": [
    "# help(df[\"Age\"].hist)\n"
   ]
  },
  {
   "cell_type": "code",
   "execution_count": null,
   "metadata": {},
   "outputs": [],
   "source": []
  }
 ],
 "metadata": {
  "kernelspec": {
   "display_name": "Python 3",
   "language": "python",
   "name": "python3"
  },
  "language_info": {
   "codemirror_mode": {
    "name": "ipython",
    "version": 3
   },
   "file_extension": ".py",
   "mimetype": "text/x-python",
   "name": "python",
   "nbconvert_exporter": "python",
   "pygments_lexer": "ipython3",
   "version": "3.7.3"
  }
 },
 "nbformat": 4,
 "nbformat_minor": 4
}
