{
 "cells": [
  {
   "cell_type": "code",
   "execution_count": 2,
   "metadata": {},
   "outputs": [
    {
     "name": "stdout",
     "output_type": "stream",
     "text": [
      "<class '__main__.Personne'>\n",
      "<class '__main__.Personne'>\n"
     ]
    }
   ],
   "source": [
    "# definition de la classe\n",
    "class Personne:\n",
    "    pass\n",
    "\n",
    "\n",
    "# instanciation d'une personne\n",
    "une_personne = Personne()\n",
    "print(type(une_personne))\n",
    "\n",
    "# instanciation d'une autre personne\n",
    "une_autre_personne = Personne()\n",
    "print(type(une_autre_personne))\n"
   ]
  },
  {
   "cell_type": "code",
   "execution_count": 6,
   "metadata": {},
   "outputs": [
    {
     "name": "stdout",
     "output_type": "stream",
     "text": [
      "Orwell\n",
      "Georges\n",
      "Orwell\n",
      "Georges\n",
      "Sand\n",
      "Orwell\n"
     ]
    }
   ],
   "source": [
    "class Personne:\n",
    "    def __init__(self):\n",
    "        self.nom = \"Orwell\"\n",
    "        self.prenom = \"Georges\"\n",
    "        self.ville = \"Londres\"\n",
    "        \n",
    "\n",
    "une_personne = Personne()\n",
    "print(une_personne.nom)\n",
    "print(une_personne.prenom)\n",
    "\n",
    "une_autre_personne = Personne()\n",
    "print(une_personne.nom)\n",
    "print(une_personne.prenom)\n"
   ]
  },
  {
   "cell_type": "code",
   "execution_count": 7,
   "metadata": {},
   "outputs": [
    {
     "name": "stdout",
     "output_type": "stream",
     "text": [
      "Sand\n",
      "Orwell\n"
     ]
    }
   ],
   "source": [
    "une_personne.nom = \"Sand\"\n",
    "print(une_personne.nom)\n",
    "print(une_autre_personne.nom)"
   ]
  },
  {
   "cell_type": "code",
   "execution_count": 8,
   "metadata": {},
   "outputs": [
    {
     "name": "stdout",
     "output_type": "stream",
     "text": [
      "Nicolas\n"
     ]
    }
   ],
   "source": [
    "class Personne:\n",
    "    def __init__(self, name_param, firstname_param, city_param=\"Paris\"):\n",
    "        self.nom = name_param\n",
    "        self.prenom = firstname_param\n",
    "        self.ville = city_param\n",
    "        self.statut = \"ALIVE\"\n",
    "        \n",
    "        \n",
    "une_personne = Personne(\"Loiseau\", \"Nicolas\")\n",
    "une_autre_personne = Personne(\"AITCHOU\", \"FATIMA\")\n",
    "une_troisieme_personne = Personne(\"COMBREXELLE\", \"Nicolas\", \"Orleans\")\n",
    "\n",
    "print(une_personne.prenom)\n"
   ]
  },
  {
   "cell_type": "code",
   "execution_count": 10,
   "metadata": {},
   "outputs": [
    {
     "name": "stdout",
     "output_type": "stream",
     "text": [
      "Bonjour, je m'appelle Nicolas Loiseau. J'habite à Paris\n",
      "Bonjour, je m'appelle FATIMA AITCHOU. J'habite à Paris\n",
      "Bonjour, je m'appelle Nicolas COMBREXELLE. J'habite à Orleans\n"
     ]
    }
   ],
   "source": [
    "class Personne:\n",
    "    def __init__(self, name_param, firstname_param, city_param=\"Paris\"):\n",
    "        self.nom = name_param\n",
    "        self.prenom = firstname_param\n",
    "        self.ville = city_param\n",
    "        self.statut = \"ALIVE\"\n",
    "        \n",
    "    def se_presenter(self):\n",
    "        print(f\"Bonjour, je m'appelle {self.prenom} {self.nom}. J'habite à {self.ville}\")\n",
    "        \n",
    "        \n",
    "une_personne = Personne(\"Loiseau\", \"Nicolas\")\n",
    "une_autre_personne = Personne(\"AITCHOU\", \"FATIMA\")\n",
    "une_troisieme_personne = Personne(\"COMBREXELLE\", \"Nicolas\", \"Orleans\")\n",
    "\n",
    "une_personne.se_presenter()\n",
    "une_autre_personne.se_presenter()\n",
    "une_troisieme_personne.se_presenter()\n"
   ]
  },
  {
   "cell_type": "code",
   "execution_count": 38,
   "metadata": {},
   "outputs": [
    {
     "name": "stdout",
     "output_type": "stream",
     "text": [
      "Marque : Mercedes, position : [0 0]\n",
      "Marque : Renault, position : [0 0]\n",
      "Marque : Mercedes, position : [1 0]\n",
      "Marque : Renault, position : [0 0]\n",
      "Marque : Mercedes, position : [1 1]\n",
      "Marque : Renault, position : [0 0]\n",
      "False\n"
     ]
    }
   ],
   "source": [
    "import numpy as np\n",
    "from functools import total_ordering\n",
    "\n",
    "@total_ordering\n",
    "class Voiture:\n",
    "    \"\"\"\n",
    "    attributs:\n",
    "        - marque: string\n",
    "        - position: np.array (default: [0,0])\n",
    "        - vitesse: np.array (default: [1,0])\n",
    "    methodes:\n",
    "        - avancer() ajoute la vitesse à la position courante\n",
    "        - tourner() tourne la voiture dans le sens horaire\n",
    "    \"\"\"\n",
    "    def __init__(self, marque, position=np.array([0,0]), vitesse=np.array([1,0])):\n",
    "        self.marque = marque\n",
    "        self.position = np.array(position)\n",
    "        self.vitesse = np.array(vitesse)\n",
    "        \n",
    "    def avancer(self):\n",
    "        self.position += self.vitesse\n",
    "        \n",
    "    def tourner(self):\n",
    "        self.vitesse = self.vitesse.dot(np.array([[0,1],[-1,0]]))\n",
    "        \n",
    "    def __lt__(self, other):\n",
    "        return np.linalg.norm(self.position) > np.linalg.norm(other.position) \n",
    "    \n",
    "    def __eq__(self, other):\n",
    "        return np.linalg.norm(self.position) == np.linalg.norm(other.position) \n",
    "        \n",
    "    def __str__(self):\n",
    "        return f\"Marque : {self.marque}, position : {self.position}\"\n",
    "    \n",
    "    def __repr__(self):\n",
    "        return f\"<Marque : {self.marque}, position : {self.position}>\"\n",
    "    \n",
    "    \n",
    "# créer une voiture et la faire avancer\n",
    "voit1 = Voiture(\"Mercedes\")\n",
    "voit2 = Voiture(\"Renault\")\n",
    "\n",
    "print(voit1)\n",
    "print(voit2)\n",
    "\n",
    "voit1.avancer()\n",
    "print(voit1)\n",
    "print(voit2)\n",
    "\n",
    "voit1.tourner()\n",
    "voit1.avancer()\n",
    "print(voit1)\n",
    "print(voit2)\n",
    "\n",
    "print(voit1 > voit2)"
   ]
  },
  {
   "cell_type": "code",
   "execution_count": 36,
   "metadata": {},
   "outputs": [
    {
     "name": "stdout",
     "output_type": "stream",
     "text": [
      "[0, 2, [4, 7], {'nom': 'Barthez'}, <Marque : Mercedes, position : [0 0]>]\n",
      "[15, 2, [15, 7], {'nom': 'Andre'}, <Marque : BMW, position : [0 0]>]\n",
      "BMW\n",
      "Mercedes\n"
     ]
    }
   ],
   "source": [
    "# from copy import deepcopy\n",
    "\n",
    "# liste = [0,2,[4,7], {\"nom\": \"Barthez\"}, Voiture(\"Mercedes\")]\n",
    "\n",
    "# #liste2 = liste\n",
    "# liste2 = deepcopy(liste)\n",
    "\n",
    "# liste[4].marque = \"BMW\"\n",
    "# liste[3][\"nom\"] = \"Andre\"\n",
    "# liste[2][0] = 15\n",
    "# liste[0] = 15\n",
    "\n",
    "# print(liste2)\n",
    "# print(liste)\n",
    "# print(liste[4].marque)\n",
    "# print(liste2[4].marque)"
   ]
  },
  {
   "cell_type": "code",
   "execution_count": 8,
   "metadata": {},
   "outputs": [
    {
     "name": "stdout",
     "output_type": "stream",
     "text": [
      "Bonjour, je m'appelle Nicolas Loiseau. J'habite à Paris\n",
      "Bonjour, je m'appelle FATIMA AITCHOU. J'habite à Paris\n",
      "Bonjour, je m'appelle Nicolas COMBREXELLE. J'habite à Orleans\n"
     ]
    },
    {
     "ename": "AttributeError",
     "evalue": "'Compte' object has no attribute '__solde'",
     "output_type": "error",
     "traceback": [
      "\u001b[1;31m---------------------------------------------------------------------------\u001b[0m",
      "\u001b[1;31mAttributeError\u001b[0m                            Traceback (most recent call last)",
      "\u001b[1;32m<ipython-input-8-ad21bd530a13>\u001b[0m in \u001b[0;36m<module>\u001b[1;34m\u001b[0m\n\u001b[0;32m     60\u001b[0m \u001b[1;31m# une_personne == ref_une_personne\u001b[0m\u001b[1;33m\u001b[0m\u001b[1;33m\u001b[0m\u001b[1;33m\u001b[0m\u001b[0m\n\u001b[0;32m     61\u001b[0m \u001b[0mune_personne\u001b[0m\u001b[1;33m.\u001b[0m\u001b[0mcompte\u001b[0m\u001b[1;33m.\u001b[0m\u001b[0mretirer\u001b[0m\u001b[1;33m(\u001b[0m\u001b[1;36m100\u001b[0m\u001b[1;33m)\u001b[0m\u001b[1;33m\u001b[0m\u001b[1;33m\u001b[0m\u001b[0m\n\u001b[1;32m---> 62\u001b[1;33m \u001b[0mune_personne\u001b[0m\u001b[1;33m.\u001b[0m\u001b[0mcompte\u001b[0m\u001b[1;33m.\u001b[0m\u001b[0m__solde\u001b[0m \u001b[1;33m-=\u001b[0m \u001b[1;36m100\u001b[0m\u001b[1;33m\u001b[0m\u001b[1;33m\u001b[0m\u001b[0m\n\u001b[0m",
      "\u001b[1;31mAttributeError\u001b[0m: 'Compte' object has no attribute '__solde'"
     ]
    }
   ],
   "source": [
    "from functools import total_ordering\n",
    "\n",
    "\n",
    "@total_ordering\n",
    "class Compte:\n",
    "    def __init__(self, solde_init):\n",
    "        self.__solde = solde_init\n",
    "        \n",
    "    def retirer(self, montant):\n",
    "        assert self.__solde > montant, \"Solde insuffisant\"\n",
    "        self.__solde -= montant\n",
    "        \n",
    "    def deposer(self, montant):\n",
    "        self.__solde += montant\n",
    "        \n",
    "    def __eq__(self, other):\n",
    "        return self.__solde == other.__solde\n",
    "    \n",
    "    def __lt__(self, other):\n",
    "        return self.__solde < other.__solde\n",
    "    \n",
    "    \n",
    "class Personne:\n",
    "    nb_personnes = 0\n",
    "    def __init__(self, name_param, firstname_param, city_param=\"Paris\", solde=1000):\n",
    "        Personne.nb_personnes += 1\n",
    "        self.nom = name_param\n",
    "        self.prenom = firstname_param\n",
    "        self.ville = city_param\n",
    "        self.statut = \"ALIVE\"\n",
    "        self.compte = Compte(solde)\n",
    "        \n",
    "    def se_presenter(self):\n",
    "        print(f\"Bonjour, je m'appelle {self.prenom} {self.nom}. J'habite à {self.ville}\")\n",
    "        \n",
    "    def __lt__(self, other):\n",
    "        return self.compte < other.compte\n",
    "    \n",
    "    def __eq__(self, other):\n",
    "        return self.compte == other.compte\n",
    "    \n",
    "    def __del__(self):\n",
    "        Personne.nb_personnes -= 1\n",
    "        \n",
    "        \n",
    "une_personne = Personne(\"Loiseau\", \"Nicolas\")\n",
    "une_autre_personne = Personne(\"AITCHOU\", \"FATIMA\")\n",
    "une_troisieme_personne = Personne(\"COMBREXELLE\", \"Nicolas\", \"Orleans\", solde=1000000)\n",
    "\n",
    "une_personne.se_presenter()\n",
    "une_autre_personne.se_presenter()\n",
    "une_troisieme_personne.se_presenter()\n",
    "\n",
    "ref_une_personne = une_personne\n",
    "\n",
    "une_personne == une_autre_personne\n",
    "une_personne == une_troisieme_personne\n",
    "\n",
    "Personne.nb_personnes\n",
    "# une_personne == ref_une_personne\n",
    "une_personne.compte.retirer(100)\n",
    "\n",
    "# une_personne.compte.__solde -= 100 # attribut privé"
   ]
  },
  {
   "cell_type": "code",
   "execution_count": 2,
   "metadata": {},
   "outputs": [
    {
     "name": "stdout",
     "output_type": "stream",
     "text": [
      "Bonjour, je m'appelle Nicolas Loiseau. J'habite à Paris\n",
      "Bonjour, je m'appelle FATIMA AITCHOU. J'habite à Paris\n",
      "Bonjour, je m'appelle Nicolas COMBREXELLE. J'habite à Orleans\n"
     ]
    },
    {
     "data": {
      "text/plain": [
       "3"
      ]
     },
     "execution_count": 2,
     "metadata": {},
     "output_type": "execute_result"
    }
   ],
   "source": [
    "une_personne = Personne(\"Loiseau\", \"Nicolas\")\n",
    "une_autre_personne = Personne(\"AITCHOU\", \"FATIMA\")\n",
    "une_troisieme_personne = Personne(\"COMBREXELLE\", \"Nicolas\", \"Orleans\", solde=1000000)\n",
    "\n",
    "une_personne.se_presenter()\n",
    "une_autre_personne.se_presenter()\n",
    "une_troisieme_personne.se_presenter()\n",
    "\n",
    "ref_une_personne = une_personne\n",
    "\n",
    "une_personne == une_autre_personne\n",
    "une_personne == une_troisieme_personne\n",
    "\n",
    "Personne.nb_personnes\n",
    "# une_personne == ref_une_personne"
   ]
  },
  {
   "cell_type": "code",
   "execution_count": null,
   "metadata": {},
   "outputs": [],
   "source": [
    "# rajouter à notre class Compte des vérifications\n",
    "# le solde d'un compte ne doit pas être négatif \n",
    "# on ne peut pas retirer un montant négatif\n",
    "# on ne peut pas ajouter un montant positif\n",
    "# on ajoute un attribut bloque:bool "
   ]
  }
 ],
 "metadata": {
  "kernelspec": {
   "display_name": "Python 3",
   "language": "python",
   "name": "python3"
  },
  "language_info": {
   "codemirror_mode": {
    "name": "ipython",
    "version": 3
   },
   "file_extension": ".py",
   "mimetype": "text/x-python",
   "name": "python",
   "nbconvert_exporter": "python",
   "pygments_lexer": "ipython3",
   "version": "3.7.3"
  }
 },
 "nbformat": 4,
 "nbformat_minor": 4
}
